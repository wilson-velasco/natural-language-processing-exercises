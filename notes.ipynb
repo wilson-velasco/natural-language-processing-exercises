{
 "cells": [
  {
   "cell_type": "code",
   "execution_count": 1,
   "id": "243abae1",
   "metadata": {},
   "outputs": [],
   "source": [
    "import pandas as pd\n",
    "import numpy as np\n",
    "\n",
    "import re"
   ]
  },
  {
   "cell_type": "code",
   "execution_count": 2,
   "id": "c3960b5c",
   "metadata": {},
   "outputs": [],
   "source": [
    "subject = 'abc'"
   ]
  },
  {
   "cell_type": "code",
   "execution_count": 3,
   "id": "4d37e9ca",
   "metadata": {},
   "outputs": [
    {
     "data": {
      "text/plain": [
       "['a']"
      ]
     },
     "execution_count": 3,
     "metadata": {},
     "output_type": "execute_result"
    }
   ],
   "source": [
    "re.findall(r'a', subject)"
   ]
  },
  {
   "cell_type": "code",
   "execution_count": 4,
   "id": "3701cf2f",
   "metadata": {},
   "outputs": [
    {
     "data": {
      "text/plain": [
       "[]"
      ]
     },
     "execution_count": 4,
     "metadata": {},
     "output_type": "execute_result"
    }
   ],
   "source": [
    "re.findall(r'd', subject)"
   ]
  },
  {
   "cell_type": "code",
   "execution_count": 5,
   "id": "c0ca53eb",
   "metadata": {},
   "outputs": [],
   "source": [
    "subject = 'c 1'"
   ]
  },
  {
   "cell_type": "code",
   "execution_count": 10,
   "id": "fe2e400c",
   "metadata": {},
   "outputs": [
    {
     "data": {
      "text/plain": [
       "['c 1']"
      ]
     },
     "execution_count": 10,
     "metadata": {},
     "output_type": "execute_result"
    }
   ],
   "source": [
    "re.findall(r'\\D\\W\\d', subject)"
   ]
  },
  {
   "cell_type": "code",
   "execution_count": 11,
   "id": "9ca5a359",
   "metadata": {},
   "outputs": [
    {
     "data": {
      "text/plain": [
       "['c 1']"
      ]
     },
     "execution_count": 11,
     "metadata": {},
     "output_type": "execute_result"
    }
   ],
   "source": [
    "re.findall(r'\\w\\s.', subject)"
   ]
  },
  {
   "cell_type": "code",
   "execution_count": 9,
   "id": "9bf1f851",
   "metadata": {},
   "outputs": [
    {
     "data": {
      "text/plain": [
       "['c 1']"
      ]
     },
     "execution_count": 9,
     "metadata": {},
     "output_type": "execute_result"
    }
   ],
   "source": [
    "re.findall(r'...', subject)"
   ]
  },
  {
   "cell_type": "code",
   "execution_count": 24,
   "id": "79dec8cc",
   "metadata": {},
   "outputs": [
    {
     "data": {
      "text/plain": [
       "'Codeup, founded in 2014, is located at 600 Navarro St. Suite 350, San Antonio, TX 78230. tagline: \"launch your career in tech!\" You can find us online at http://codeup.com and our alumni portal is located at https://alumni.codeup.com and \"codeup is a great school\"!'"
      ]
     },
     "execution_count": 24,
     "metadata": {},
     "output_type": "execute_result"
    }
   ],
   "source": [
    "subject = '''\n",
    "Codeup, founded in 2014, is located at 600 Navarro St. \n",
    "Suite 350, San Antonio, TX 78230. \n",
    "tagline: \"launch your career in tech!\" \n",
    "You can find us online at http://codeup.com \n",
    "and our alumni portal is located at https://alumni.codeup.com \n",
    "and \"codeup is a great school\"!\n",
    "'''\n",
    "\n",
    "subject = subject.replace('\\n','')\n",
    "subject"
   ]
  },
  {
   "cell_type": "code",
   "execution_count": 13,
   "id": "68aaddad",
   "metadata": {},
   "outputs": [
    {
     "data": {
      "text/plain": [
       "['2014', '600', '350', '78230']"
      ]
     },
     "execution_count": 13,
     "metadata": {},
     "output_type": "execute_result"
    }
   ],
   "source": [
    "#Find all numbers\n",
    "\n",
    "re.findall(r'\\d+', subject)"
   ]
  },
  {
   "cell_type": "code",
   "execution_count": 14,
   "id": "ec4cd287",
   "metadata": {},
   "outputs": [
    {
     "data": {
      "text/plain": [
       "['78230']"
      ]
     },
     "execution_count": 14,
     "metadata": {},
     "output_type": "execute_result"
    }
   ],
   "source": [
    "#Find the number that has exactly 5 digits\n",
    "\n",
    "re.findall(r'\\d{5}', subject)"
   ]
  },
  {
   "cell_type": "code",
   "execution_count": 15,
   "id": "b2b8b957",
   "metadata": {},
   "outputs": [
    {
     "data": {
      "text/plain": [
       "['2014', '78230']"
      ]
     },
     "execution_count": 15,
     "metadata": {},
     "output_type": "execute_result"
    }
   ],
   "source": [
    "#Find numbers that has 4 or more digits\n",
    "\n",
    "re.findall(r'\\d{4,}', subject)"
   ]
  },
  {
   "cell_type": "code",
   "execution_count": 21,
   "id": "f99d9599",
   "metadata": {},
   "outputs": [
    {
     "data": {
      "text/plain": [
       "['\"launch your career in tech!\"', '\"codeup is a great school\"']"
      ]
     },
     "execution_count": 21,
     "metadata": {},
     "output_type": "execute_result"
    }
   ],
   "source": [
    "#Find sentences contained in quotes\n",
    "\n",
    "re.findall(r'\".+?\"', subject)"
   ]
  },
  {
   "cell_type": "code",
   "execution_count": 19,
   "id": "f6e6ead6",
   "metadata": {},
   "outputs": [
    {
     "data": {
      "text/plain": [
       "['http://', 'https://']"
      ]
     },
     "execution_count": 19,
     "metadata": {},
     "output_type": "execute_result"
    }
   ],
   "source": [
    "#Find http:// or https://\n",
    "\n",
    "re.findall(r'https?://', subject)"
   ]
  },
  {
   "cell_type": "code",
   "execution_count": 25,
   "id": "8487ebae",
   "metadata": {},
   "outputs": [
    {
     "data": {
      "text/plain": [
       "'Codeup, founded in 2014, is located at 600 Navarro St. Suite 350, San Antonio, TX 78230. tagline: \"launch your career in tech!\" You can find us online at http://codeup.com and our alumni portal is located at https://alumni.codeup.com and \"codeup is a great school\"!'"
      ]
     },
     "execution_count": 25,
     "metadata": {},
     "output_type": "execute_result"
    }
   ],
   "source": [
    "subject"
   ]
  },
  {
   "cell_type": "code",
   "execution_count": 26,
   "id": "e779528c",
   "metadata": {},
   "outputs": [
    {
     "data": {
      "text/plain": [
       "['2', '0', '4', '6', '0', '0', '0', '8', '2', '0']"
      ]
     },
     "execution_count": 26,
     "metadata": {},
     "output_type": "execute_result"
    }
   ],
   "source": [
    "#Find any even digits (regardless if it's a part of a bigger number)\n",
    "\n",
    "re.findall(r'[02468]', subject)"
   ]
  },
  {
   "cell_type": "code",
   "execution_count": 29,
   "id": "32dd2ab8",
   "metadata": {},
   "outputs": [
    {
     "data": {
      "text/plain": [
       "['2014', '600', '350', '78230']"
      ]
     },
     "execution_count": 29,
     "metadata": {},
     "output_type": "execute_result"
    }
   ],
   "source": [
    "#Find entire numbers taht are even\n",
    "\n",
    "re.findall(r'\\d+[02468]\\b', subject)"
   ]
  },
  {
   "cell_type": "code",
   "execution_count": 31,
   "id": "4b332ab6",
   "metadata": {},
   "outputs": [
    {
     "data": {
      "text/plain": [
       "['35']"
      ]
     },
     "execution_count": 31,
     "metadata": {},
     "output_type": "execute_result"
    }
   ],
   "source": [
    "#Find 2 or more odd digits in a row\n",
    "\n",
    "re.findall(r'[13579]{2,}', subject)"
   ]
  },
  {
   "cell_type": "code",
   "execution_count": 37,
   "id": "44e2c8aa",
   "metadata": {},
   "outputs": [
    {
     "data": {
      "text/plain": [
       "['C', 'N', 'S', 'S', 'S', 'A', 'T', 'X', 'Y']"
      ]
     },
     "execution_count": 37,
     "metadata": {},
     "output_type": "execute_result"
    }
   ],
   "source": [
    "#Find all the capital letters\n",
    "\n",
    "#cap = ABCDEFGHIJKLMNOPQRSTUVWXYZ\n",
    "\n",
    "re.findall(r'[A-Z]', subject)"
   ]
  },
  {
   "cell_type": "code",
   "execution_count": 38,
   "id": "d5e5ddbd",
   "metadata": {},
   "outputs": [
    {
     "data": {
      "text/plain": [
       "['Codeup', 'Navarro', 'St', 'Suite', 'San', 'Antonio', 'TX', 'You']"
      ]
     },
     "execution_count": 38,
     "metadata": {},
     "output_type": "execute_result"
    }
   ],
   "source": [
    "#Find all words that start with a capital letter\n",
    "\n",
    "re.findall(r'\\b[A-Z]\\w+', subject)"
   ]
  },
  {
   "cell_type": "code",
   "execution_count": null,
   "id": "b06d970d",
   "metadata": {},
   "outputs": [],
   "source": []
  }
 ],
 "metadata": {
  "kernelspec": {
   "display_name": "Python 3 (ipykernel)",
   "language": "python",
   "name": "python3"
  },
  "language_info": {
   "codemirror_mode": {
    "name": "ipython",
    "version": 3
   },
   "file_extension": ".py",
   "mimetype": "text/x-python",
   "name": "python",
   "nbconvert_exporter": "python",
   "pygments_lexer": "ipython3",
   "version": "3.9.13"
  }
 },
 "nbformat": 4,
 "nbformat_minor": 5
}
