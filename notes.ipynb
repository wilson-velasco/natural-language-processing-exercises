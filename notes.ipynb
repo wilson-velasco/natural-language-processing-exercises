{
 "cells": [
  {
   "cell_type": "code",
   "execution_count": 1,
   "id": "abb8ac03",
   "metadata": {},
   "outputs": [],
   "source": [
    "import pandas as pd\n",
    "import numpy as np\n",
    "\n",
    "import re"
   ]
  },
  {
   "cell_type": "code",
   "execution_count": 2,
   "id": "6317db3f",
   "metadata": {},
   "outputs": [],
   "source": [
    "subject = 'abc'"
   ]
  },
  {
   "cell_type": "code",
   "execution_count": 3,
   "id": "6683f135",
   "metadata": {},
   "outputs": [
    {
     "data": {
      "text/plain": [
       "['a']"
      ]
     },
     "execution_count": 3,
     "metadata": {},
     "output_type": "execute_result"
    }
   ],
   "source": [
    "re.findall(r'a', subject)"
   ]
  },
  {
   "cell_type": "code",
   "execution_count": 4,
   "id": "8ffd0285",
   "metadata": {},
   "outputs": [
    {
     "data": {
      "text/plain": [
       "[]"
      ]
     },
     "execution_count": 4,
     "metadata": {},
     "output_type": "execute_result"
    }
   ],
   "source": [
    "re.findall(r'd', subject)"
   ]
  },
  {
   "cell_type": "code",
   "execution_count": 5,
   "id": "4f0f745a",
   "metadata": {},
   "outputs": [],
   "source": [
    "subject = 'c 1'"
   ]
  },
  {
   "cell_type": "code",
   "execution_count": 10,
   "id": "515bff75",
   "metadata": {},
   "outputs": [
    {
     "data": {
      "text/plain": [
       "['c 1']"
      ]
     },
     "execution_count": 10,
     "metadata": {},
     "output_type": "execute_result"
    }
   ],
   "source": [
    "re.findall(r'\\D\\W\\d', subject)"
   ]
  },
  {
   "cell_type": "code",
   "execution_count": 11,
   "id": "6d89ee68",
   "metadata": {},
   "outputs": [
    {
     "data": {
      "text/plain": [
       "['c 1']"
      ]
     },
     "execution_count": 11,
     "metadata": {},
     "output_type": "execute_result"
    }
   ],
   "source": [
    "re.findall(r'\\w\\s.', subject)"
   ]
  },
  {
   "cell_type": "code",
   "execution_count": 9,
   "id": "ceb6fbef",
   "metadata": {},
   "outputs": [
    {
     "data": {
      "text/plain": [
       "['c 1']"
      ]
     },
     "execution_count": 9,
     "metadata": {},
     "output_type": "execute_result"
    }
   ],
   "source": [
    "re.findall(r'...', subject)"
   ]
  },
  {
   "cell_type": "code",
   "execution_count": 24,
   "id": "6d204425",
   "metadata": {},
   "outputs": [
    {
     "data": {
      "text/plain": [
       "'Codeup, founded in 2014, is located at 600 Navarro St. Suite 350, San Antonio, TX 78230. tagline: \"launch your career in tech!\" You can find us online at http://codeup.com and our alumni portal is located at https://alumni.codeup.com and \"codeup is a great school\"!'"
      ]
     },
     "execution_count": 24,
     "metadata": {},
     "output_type": "execute_result"
    }
   ],
   "source": [
    "subject = '''\n",
    "Codeup, founded in 2014, is located at 600 Navarro St. \n",
    "Suite 350, San Antonio, TX 78230. \n",
    "tagline: \"launch your career in tech!\" \n",
    "You can find us online at http://codeup.com \n",
    "and our alumni portal is located at https://alumni.codeup.com \n",
    "and \"codeup is a great school\"!\n",
    "'''\n",
    "\n",
    "subject = subject.replace('\\n','')\n",
    "subject"
   ]
  },
  {
   "cell_type": "code",
   "execution_count": 13,
   "id": "5578aee0",
   "metadata": {},
   "outputs": [
    {
     "data": {
      "text/plain": [
       "['2014', '600', '350', '78230']"
      ]
     },
     "execution_count": 13,
     "metadata": {},
     "output_type": "execute_result"
    }
   ],
   "source": [
    "#Find all numbers\n",
    "\n",
    "re.findall(r'\\d+', subject)"
   ]
  },
  {
   "cell_type": "code",
   "execution_count": 14,
   "id": "b145e9ee",
   "metadata": {},
   "outputs": [
    {
     "data": {
      "text/plain": [
       "['78230']"
      ]
     },
     "execution_count": 14,
     "metadata": {},
     "output_type": "execute_result"
    }
   ],
   "source": [
    "#Find the number that has exactly 5 digits\n",
    "\n",
    "re.findall(r'\\d{5}', subject)"
   ]
  },
  {
   "cell_type": "code",
   "execution_count": 15,
   "id": "39a3aca9",
   "metadata": {},
   "outputs": [
    {
     "data": {
      "text/plain": [
       "['2014', '78230']"
      ]
     },
     "execution_count": 15,
     "metadata": {},
     "output_type": "execute_result"
    }
   ],
   "source": [
    "#Find numbers that has 4 or more digits\n",
    "\n",
    "re.findall(r'\\d{4,}', subject)"
   ]
  },
  {
   "cell_type": "code",
   "execution_count": 21,
   "id": "0488a7f7",
   "metadata": {},
   "outputs": [
    {
     "data": {
      "text/plain": [
       "['\"launch your career in tech!\"', '\"codeup is a great school\"']"
      ]
     },
     "execution_count": 21,
     "metadata": {},
     "output_type": "execute_result"
    }
   ],
   "source": [
    "#Find sentences contained in quotes\n",
    "\n",
    "re.findall(r'\".+?\"', subject)"
   ]
  },
  {
   "cell_type": "code",
   "execution_count": 19,
   "id": "898faa1e",
   "metadata": {},
   "outputs": [
    {
     "data": {
      "text/plain": [
       "['http://', 'https://']"
      ]
     },
     "execution_count": 19,
     "metadata": {},
     "output_type": "execute_result"
    }
   ],
   "source": [
    "#Find http:// or https://\n",
    "\n",
    "re.findall(r'https?://', subject)"
   ]
  },
  {
   "cell_type": "code",
   "execution_count": 25,
   "id": "d145b863",
   "metadata": {},
   "outputs": [
    {
     "data": {
      "text/plain": [
       "'Codeup, founded in 2014, is located at 600 Navarro St. Suite 350, San Antonio, TX 78230. tagline: \"launch your career in tech!\" You can find us online at http://codeup.com and our alumni portal is located at https://alumni.codeup.com and \"codeup is a great school\"!'"
      ]
     },
     "execution_count": 25,
     "metadata": {},
     "output_type": "execute_result"
    }
   ],
   "source": [
    "subject"
   ]
  },
  {
   "cell_type": "code",
   "execution_count": 26,
   "id": "551f2848",
   "metadata": {},
   "outputs": [
    {
     "data": {
      "text/plain": [
       "['2', '0', '4', '6', '0', '0', '0', '8', '2', '0']"
      ]
     },
     "execution_count": 26,
     "metadata": {},
     "output_type": "execute_result"
    }
   ],
   "source": [
    "#Find any even digits (regardless if it's a part of a bigger number)\n",
    "\n",
    "re.findall(r'[02468]', subject)"
   ]
  },
  {
   "cell_type": "code",
   "execution_count": 29,
   "id": "1fafacff",
   "metadata": {},
   "outputs": [
    {
     "data": {
      "text/plain": [
       "['2014', '600', '350', '78230']"
      ]
     },
     "execution_count": 29,
     "metadata": {},
     "output_type": "execute_result"
    }
   ],
   "source": [
    "#Find entire numbers taht are even\n",
    "\n",
    "re.findall(r'\\d+[02468]\\b', subject)"
   ]
  },
  {
   "cell_type": "code",
   "execution_count": 31,
   "id": "91160aa2",
   "metadata": {},
   "outputs": [
    {
     "data": {
      "text/plain": [
       "['35']"
      ]
     },
     "execution_count": 31,
     "metadata": {},
     "output_type": "execute_result"
    }
   ],
   "source": [
    "#Find 2 or more odd digits in a row\n",
    "\n",
    "re.findall(r'[13579]{2,}', subject)"
   ]
  },
  {
   "cell_type": "code",
   "execution_count": 37,
   "id": "3a5667b2",
   "metadata": {},
   "outputs": [
    {
     "data": {
      "text/plain": [
       "['C', 'N', 'S', 'S', 'S', 'A', 'T', 'X', 'Y']"
      ]
     },
     "execution_count": 37,
     "metadata": {},
     "output_type": "execute_result"
    }
   ],
   "source": [
    "#Find all the capital letters\n",
    "\n",
    "#cap = ABCDEFGHIJKLMNOPQRSTUVWXYZ\n",
    "\n",
    "re.findall(r'[A-Z]', subject)"
   ]
  },
  {
   "cell_type": "code",
   "execution_count": 38,
   "id": "d266448a",
   "metadata": {},
   "outputs": [
    {
     "data": {
      "text/plain": [
       "['Codeup', 'Navarro', 'St', 'Suite', 'San', 'Antonio', 'TX', 'You']"
      ]
     },
     "execution_count": 38,
     "metadata": {},
     "output_type": "execute_result"
    }
   ],
   "source": [
    "#Find all words that start with a capital letter\n",
    "\n",
    "re.findall(r'\\b[A-Z]\\w+', subject)"
   ]
  },
  {
   "cell_type": "markdown",
   "id": "5243f505",
   "metadata": {},
   "source": [
    "# Acquisition"
   ]
  },
  {
   "cell_type": "code",
   "execution_count": 1,
   "id": "cdfb9a26",
   "metadata": {},
   "outputs": [],
   "source": [
    "import unicodedata\n",
    "import re\n",
    "import json\n",
    "import nltk\n",
    "\n",
    "import pandas as pd\n",
    "\n",
    "import acquire\n",
    "\n",
    "from nltk.tokenize.toktok import ToktokTokenizer\n",
    "from nltk.corpus import stopwords"
   ]
  },
  {
   "cell_type": "code",
   "execution_count": 2,
   "id": "9c80e5e8",
   "metadata": {},
   "outputs": [],
   "source": [
    "string = 'Одну из самых крупных и известных всемирных экозащитных организаций «Фонд дикой природы» с чёрно-белым тростниковым мишкой и буквами WWF на логотипе объявили нежелательной в России. Решение приняла Генпрокуратура. В ведомстве считают, что о природе фонд заботится только для отвода глаз.'"
   ]
  },
  {
   "cell_type": "code",
   "execution_count": 3,
   "id": "ca8931bc",
   "metadata": {},
   "outputs": [
    {
     "data": {
      "text/plain": [
       "'Одну из самых крупных и известных всемирных экозащитных организаций «Фонд дикой природы» с чёрно-белым тростниковым мишкой и буквами WWF на логотипе объявили нежелательной в России. Решение приняла Генпрокуратура. В ведомстве считают, что о природе фонд заботится только для отвода глаз.'"
      ]
     },
     "execution_count": 3,
     "metadata": {},
     "output_type": "execute_result"
    }
   ],
   "source": [
    "string"
   ]
  },
  {
   "cell_type": "code",
   "execution_count": 5,
   "id": "6d4e4069",
   "metadata": {},
   "outputs": [],
   "source": [
    "normal_string = unicodedata.normalize('NFKD', string.lower())\\\n",
    "    .encode('ascii', 'ignore')\\\n",
    "    .decode('utf-8', 'ignore')"
   ]
  },
  {
   "cell_type": "code",
   "execution_count": 6,
   "id": "488bf603",
   "metadata": {},
   "outputs": [
    {
     "data": {
      "text/plain": [
       "'             -     wwf      .   .   ,         .'"
      ]
     },
     "execution_count": 6,
     "metadata": {},
     "output_type": "execute_result"
    }
   ],
   "source": [
    "normal_string"
   ]
  },
  {
   "cell_type": "code",
   "execution_count": null,
   "id": "332b073c",
   "metadata": {},
   "outputs": [],
   "source": []
  }
 ],
 "metadata": {
  "kernelspec": {
   "display_name": "Python 3 (ipykernel)",
   "language": "python",
   "name": "python3"
  },
  "language_info": {
   "codemirror_mode": {
    "name": "ipython",
    "version": 3
   },
   "file_extension": ".py",
   "mimetype": "text/x-python",
   "name": "python",
   "nbconvert_exporter": "python",
   "pygments_lexer": "ipython3",
   "version": "3.9.13"
  }
 },
 "nbformat": 4,
 "nbformat_minor": 5
}
